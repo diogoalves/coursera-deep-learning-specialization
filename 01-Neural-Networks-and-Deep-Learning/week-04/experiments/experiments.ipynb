{
 "cells": [
  {
   "cell_type": "markdown",
   "metadata": {},
   "source": [
    "## Setup"
   ]
  },
  {
   "cell_type": "code",
   "execution_count": 2,
   "metadata": {},
   "outputs": [
    {
     "name": "stdout",
     "output_type": "stream",
     "text": [
      "\n",
      "Setup complete!\n"
     ]
    }
   ],
   "source": [
    "import time\n",
    "import numpy as np\n",
    "import h5py\n",
    "import matplotlib.pyplot as plt\n",
    "import scipy\n",
    "from PIL import Image\n",
    "from scipy import ndimage\n",
    "from dnn_app_utils_v3_diogo import *\n",
    "\n",
    "\n",
    "%matplotlib inline\n",
    "plt.rcParams['figure.figsize'] = (5.0, 4.0) # set default size of plots\n",
    "plt.rcParams['image.interpolation'] = 'nearest'\n",
    "plt.rcParams['image.cmap'] = 'gray'\n",
    "\n",
    "np.random.seed(1)\n",
    "\n",
    "train_x_orig, train_y, test_x_orig, test_y, classes = load_data()\n",
    "\n",
    "# Reshape the training and test examples \n",
    "train_x_flatten = train_x_orig.reshape(train_x_orig.shape[0], -1).T   # The \"-1\" makes reshape flatten the remaining dimensions\n",
    "test_x_flatten = test_x_orig.reshape(test_x_orig.shape[0], -1).T\n",
    "\n",
    "# Standardize data to have feature values between 0 and 1.\n",
    "train_x = train_x_flatten/255.\n",
    "test_x = test_x_flatten/255.\n",
    "\n",
    "def plot_costs(costs, learning_rate=0.0075):\n",
    "    plt.plot(np.squeeze(costs))\n",
    "    plt.ylabel('cost')\n",
    "    plt.xlabel('iterations (per hundreds)')\n",
    "    plt.title(\"Learning rate =\" + str(learning_rate))\n",
    "    plt.show()\n",
    "\n",
    "print('\\nSetup complete!')"
   ]
  },
  {
   "cell_type": "markdown",
   "metadata": {},
   "source": [
    "## Baseline\n",
    "\n",
    "use final 4-Layers model from week-04 assignment-02 as a baseline\n",
    "\n",
    "```\n",
    "Processing time:  90718.75\n",
    "Train Accuracy: 0.9808612440191385\n",
    "Test Accuracy: 0.8200000000000001\n",
    "```"
   ]
  },
  {
   "cell_type": "code",
   "execution_count": 3,
   "metadata": {},
   "outputs": [
    {
     "name": "stdout",
     "output_type": "stream",
     "text": [
      "Cost after iteration 0: 0.7717493284237686\n",
      "Cost after iteration 100: 0.6720534400822914\n",
      "Cost after iteration 200: 0.6482632048575212\n",
      "Cost after iteration 300: 0.6115068816101354\n",
      "Cost after iteration 400: 0.5670473268366111\n",
      "Cost after iteration 500: 0.5401376634547801\n",
      "Cost after iteration 600: 0.5279299569455267\n",
      "Cost after iteration 700: 0.46547737717668514\n",
      "Cost after iteration 800: 0.36912585249592794\n",
      "Cost after iteration 900: 0.39174697434805344\n",
      "Cost after iteration 1000: 0.3151869888600617\n",
      "Cost after iteration 1100: 0.2726998441789385\n",
      "Cost after iteration 1200: 0.23741853400268137\n",
      "Cost after iteration 1300: 0.19960120532208647\n",
      "Cost after iteration 1400: 0.18926300388463305\n",
      "Cost after iteration 1499: 0.1609978212526493\n",
      "Processing time:  90718.75\n",
      "Accuracy: 0.9808612440191385\n",
      "Accuracy: 0.8200000000000001\n"
     ]
    },
    {
     "data": {
      "image/png": "[encoded data removed]",
      "text/plain": [
       "<Figure size 360x288 with 1 Axes>"
      ]
     },
     "metadata": {
      "needs_background": "light"
     },
     "output_type": "display_data"
    }
   ],
   "source": [
    "layers_dims = [12288, 20, 7, 5, 1] #  4-layer model\n",
    "\n",
    "def L_layer_model(X, Y, layers_dims, learning_rate = 0.0075, num_iterations = 3000, print_cost=False):\n",
    "    np.random.seed(1)\n",
    "    costs = []                         # keep track of cost\n",
    "    \n",
    "    # Parameters initialization.\n",
    "    parameters = initialize_parameters_deep(layers_dims)\n",
    "\n",
    "    # Loop (gradient descent)\n",
    "    for i in range(0, num_iterations):\n",
    "        AL, caches = L_model_forward(X, parameters)\n",
    "        cost = compute_cost(AL, Y)\n",
    "        grads = L_model_backward(AL, Y, caches)\n",
    "        parameters = update_parameters(parameters, grads, learning_rate)\n",
    "                \n",
    "        # Print the cost every 100 iterations\n",
    "        if print_cost and i % 100 == 0 or i == num_iterations - 1:\n",
    "            print(\"Cost after iteration {}: {}\".format(i, np.squeeze(cost)))\n",
    "        if i % 100 == 0 or i == num_iterations:\n",
    "            costs.append(cost)\n",
    "    \n",
    "    return parameters, costs\n",
    "\n",
    "learning_rate = 0.0075\n",
    "\n",
    "tic = time.process_time()\n",
    "parameters, costs = L_layer_model(train_x, train_y, layers_dims, num_iterations = 1500, print_cost = True)\n",
    "toc = time.process_time()\n",
    "processing_time = 1000 * (toc - tic)\n",
    "print('Processing time: ', str(processing_time) )\n",
    "\n",
    "pred_train = predict(train_x, train_y, parameters)\n",
    "pred_test = predict(test_x, test_y, parameters)\n",
    "\n",
    "\n",
    "\n",
    "plot_costs(costs, learning_rate)\n"
   ]
  },
  {
   "cell_type": "markdown",
   "metadata": {},
   "source": [
    "#### Experiment 1 - Changing relu function to test if theres is any peformance impact\n",
    "\n",
    "I tried changing relu forward propagation function for one of those in [How to implement the ReLU function in Numpy](https://stackoverflow.com/questions/32109319/how-to-implement-the-relu-function-in-numpy)\n",
    "\n",
    "The best suggestions make use of change inplace. \n",
    "In current architecture, inplace changing do not make sense because the original Z need to be passed to relu_backward function.\n",
    "\n",
    "Tried changing the relu from np.maximum to a multiply function but I cannot see any improvement.\n",
    "Probably because this function is not the dominant in execution time.\n",
    "\n",
    "The test was done changing linear_activation_forward function directly to call relu optimized functions.\n",
    "\n",
    "\n"
   ]
  },
  {
   "cell_type": "code",
   "execution_count": 2,
   "metadata": {},
   "outputs": [
    {
     "name": "stdout",
     "output_type": "stream",
     "text": [
      "Cost after iteration 0: 0.7717493284237686\n",
      "Cost after iteration 100: 0.6720534400822914\n",
      "Cost after iteration 200: 0.6482632048575212\n",
      "Cost after iteration 300: 0.6115068816101354\n",
      "Cost after iteration 400: 0.5670473268366111\n",
      "Cost after iteration 500: 0.5401376634547801\n",
      "Cost after iteration 600: 0.5279299569455267\n",
      "Cost after iteration 700: 0.46547737717668514\n",
      "Cost after iteration 800: 0.36912585249592794\n",
      "Cost after iteration 900: 0.39174697434805344\n",
      "Cost after iteration 1000: 0.3151869888600617\n",
      "Cost after iteration 1100: 0.2726998441789385\n",
      "Cost after iteration 1200: 0.23741853400268137\n",
      "Cost after iteration 1300: 0.19960120532208647\n",
      "Cost after iteration 1400: 0.18926300388463305\n",
      "Cost after iteration 1499: 0.1609978212526493\n",
      "Processing time:  92093.75\n",
      "Accuracy: 0.9808612440191385\n",
      "Accuracy: 0.8200000000000001\n"
     ]
    },
    {
     "data": {
      "image/png": "[encoded data removed]",
      "text/plain": [
       "<Figure size 360x288 with 1 Axes>"
      ]
     },
     "metadata": {
      "needs_background": "light"
     },
     "output_type": "display_data"
    }
   ],
   "source": [
    "layers_dims = [12288, 20, 7, 5, 1] #  4-layer model\n",
    "\n",
    "def L_layer_model(X, Y, layers_dims, learning_rate = 0.0075, num_iterations = 3000, print_cost=False):\n",
    "    np.random.seed(1)\n",
    "    costs = []                         # keep track of cost\n",
    "    \n",
    "    # Parameters initialization.\n",
    "    parameters = initialize_parameters_deep(layers_dims)\n",
    "\n",
    "    # Loop (gradient descent)\n",
    "    for i in range(0, num_iterations):\n",
    "        AL, caches = L_model_forward(X, parameters)\n",
    "        cost = compute_cost(AL, Y)\n",
    "        grads = L_model_backward(AL, Y, caches)\n",
    "        parameters = update_parameters(parameters, grads, learning_rate)\n",
    "                \n",
    "        # Print the cost every 100 iterations\n",
    "        if print_cost and i % 100 == 0 or i == num_iterations - 1:\n",
    "            print(\"Cost after iteration {}: {}\".format(i, np.squeeze(cost)))\n",
    "        if i % 100 == 0 or i == num_iterations:\n",
    "            costs.append(cost)\n",
    "    \n",
    "    return parameters, costs\n",
    "\n",
    "learning_rate = 0.0075\n",
    "\n",
    "tic = time.process_time()\n",
    "parameters, costs = L_layer_model(train_x, train_y, layers_dims, num_iterations = 1500, print_cost = True)\n",
    "toc = time.process_time()\n",
    "processing_time = 1000 * (toc - tic)\n",
    "print('Processing time: ', str(processing_time) )\n",
    "\n",
    "pred_train = predict(train_x, train_y, parameters)\n",
    "pred_test = predict(test_x, test_y, parameters)\n",
    "\n",
    "\n",
    "\n",
    "plot_costs(costs, learning_rate)"
   ]
  },
  {
   "cell_type": "markdown",
   "metadata": {},
   "source": [
    "### Experiment 2 - Using leaky relu instead instead to relu\n",
    "\n",
    "hypothesis: the gradient descent will converge slightly faster\n",
    "\n",
    "\n",
    "The test was done changing linear_activation_forward and linear_activation_backward functions directly to call leaky relu forward and backward functions.\n",
    "\n",
    "\n",
    "results: I am not sure what has happned. The execution did not converge. \n",
    "\n",
    "Tried also reducing the learning rate, but still not converging. May be I have implemented something wrong, I am not sure whats is the problem.\n",
    "\n",
    "Things are not easy as seen"
   ]
  },
  {
   "cell_type": "code",
   "execution_count": 2,
   "metadata": {},
   "outputs": [
    {
     "name": "stdout",
     "output_type": "stream",
     "text": [
      "Cost after iteration 0: 0.7717493284237686\n",
      "Cost after iteration 100: 0.6692696631401115\n",
      "Cost after iteration 200: 0.6388738671173996\n",
      "Cost after iteration 300: 0.5978842419394992\n",
      "Cost after iteration 400: 0.5688271812027766\n",
      "Cost after iteration 500: 0.4612600061610806\n",
      "Cost after iteration 600: 0.5084836067888391\n",
      "Cost after iteration 700: 0.32759554824353243\n",
      "Cost after iteration 800: 0.3103980005754491\n",
      "Cost after iteration 900: 0.2488305281626642\n",
      "Cost after iteration 1000: 0.20730930330849956\n",
      "Cost after iteration 1100: 0.14048537378492806\n",
      "Cost after iteration 1200: 0.11567032435733039\n",
      "Cost after iteration 1300: 0.09925963099373132\n",
      "Cost after iteration 1400: 0.08584462857591119\n",
      "Cost after iteration 1500: 0.07497507157629975\n",
      "Cost after iteration 1600: 0.067808819508068\n",
      "Cost after iteration 1700: 0.05840152716698281\n",
      "Cost after iteration 1800: 0.05205409767343473\n",
      "Cost after iteration 1900: 0.04767964899529183\n",
      "Cost after iteration 2000: 0.042258944535071216\n",
      "Cost after iteration 2100: 0.03779723515289589\n",
      "Cost after iteration 2200: 0.03473029997869358\n",
      "Cost after iteration 2300: 0.03139111545378387\n",
      "Cost after iteration 2400: 0.02878757407026213\n",
      "Cost after iteration 2500: 0.026484365227653555\n",
      "Cost after iteration 2600: 0.02438112965792639\n",
      "Cost after iteration 2700: 0.02265650732138593\n",
      "Cost after iteration 2800: 0.02102422758135055\n",
      "Cost after iteration 2900: 0.01964411959801837\n",
      "Cost after iteration 3000: 0.01848712688987773\n",
      "Cost after iteration 3100: 0.01725494930266874\n",
      "Cost after iteration 3200: 0.016287481794473577\n",
      "Cost after iteration 3300: 0.015256222643442096\n",
      "Cost after iteration 3400: 0.01454687815401312\n",
      "Cost after iteration 3500: 0.013605502226137704\n",
      "Cost after iteration 3600: 0.013013346498050337\n",
      "Cost after iteration 3700: 0.012225190189399993\n",
      "Cost after iteration 3800: 0.011683332445730906\n",
      "Cost after iteration 3900: 0.011128764964132018\n",
      "Cost after iteration 4000: 0.010616104825500208\n",
      "Cost after iteration 4100: 0.010114194478190487\n",
      "Cost after iteration 4200: 0.009700666087268692\n",
      "Cost after iteration 4300: 0.009358476667064781\n",
      "Cost after iteration 4400: 0.008916554179516171\n",
      "Cost after iteration 4500: 0.008559079840856373\n",
      "Cost after iteration 4600: 0.008224702264772574\n",
      "Cost after iteration 4700: 0.00791613663286716\n",
      "Cost after iteration 4800: 0.007615177038158483\n",
      "Cost after iteration 4900: 0.007365322214352955\n",
      "Cost after iteration 5000: 0.007114519892810896\n",
      "Cost after iteration 5100: 0.006844194319757305\n",
      "Cost after iteration 5200: 0.006616265598544262\n",
      "Cost after iteration 5300: 0.006429813190220188\n",
      "Cost after iteration 5400: 0.006216358950023663\n"
     ]
    },
    {
     "ename": "KeyboardInterrupt",
     "evalue": "",
     "output_type": "error",
     "traceback": [
      "\u001b[1;31m---------------------------------------------------------------------------\u001b[0m",
      "\u001b[1;31mKeyboardInterrupt\u001b[0m                         Traceback (most recent call last)",
      "\u001b[1;32me:\\work\\coursera-deep-learning-specialization\\01-Neural-Networks-and-Deep-Learning\\week-04\\experiments\\experiments.ipynb Cell 8'\u001b[0m in \u001b[0;36m<module>\u001b[1;34m\u001b[0m\n\u001b[0;32m     <a href='vscode-notebook-cell:/e%3A/work/coursera-deep-learning-specialization/01-Neural-Networks-and-Deep-Learning/week-04/experiments/experiments.ipynb#ch0000007?line=24'>25</a>\u001b[0m learning_rate \u001b[39m=\u001b[39m \u001b[39m0.0003\u001b[39m\n\u001b[0;32m     <a href='vscode-notebook-cell:/e%3A/work/coursera-deep-learning-specialization/01-Neural-Networks-and-Deep-Learning/week-04/experiments/experiments.ipynb#ch0000007?line=26'>27</a>\u001b[0m tic \u001b[39m=\u001b[39m time\u001b[39m.\u001b[39mprocess_time()\n\u001b[1;32m---> <a href='vscode-notebook-cell:/e%3A/work/coursera-deep-learning-specialization/01-Neural-Networks-and-Deep-Learning/week-04/experiments/experiments.ipynb#ch0000007?line=27'>28</a>\u001b[0m parameters, costs \u001b[39m=\u001b[39m L_layer_model(train_x, train_y, layers_dims, num_iterations \u001b[39m=\u001b[39;49m \u001b[39m12500\u001b[39;49m, print_cost \u001b[39m=\u001b[39;49m \u001b[39mTrue\u001b[39;49;00m, learning_rate \u001b[39m=\u001b[39;49m \u001b[39m0.01\u001b[39;49m)\n\u001b[0;32m     <a href='vscode-notebook-cell:/e%3A/work/coursera-deep-learning-specialization/01-Neural-Networks-and-Deep-Learning/week-04/experiments/experiments.ipynb#ch0000007?line=28'>29</a>\u001b[0m toc \u001b[39m=\u001b[39m time\u001b[39m.\u001b[39mprocess_time()\n\u001b[0;32m     <a href='vscode-notebook-cell:/e%3A/work/coursera-deep-learning-specialization/01-Neural-Networks-and-Deep-Learning/week-04/experiments/experiments.ipynb#ch0000007?line=29'>30</a>\u001b[0m processing_time \u001b[39m=\u001b[39m \u001b[39m1000\u001b[39m \u001b[39m*\u001b[39m (toc \u001b[39m-\u001b[39m tic)\n",
      "\u001b[1;32me:\\work\\coursera-deep-learning-specialization\\01-Neural-Networks-and-Deep-Learning\\week-04\\experiments\\experiments.ipynb Cell 8'\u001b[0m in \u001b[0;36mL_layer_model\u001b[1;34m(X, Y, layers_dims, learning_rate, num_iterations, print_cost)\u001b[0m\n\u001b[0;32m     <a href='vscode-notebook-cell:/e%3A/work/coursera-deep-learning-specialization/01-Neural-Networks-and-Deep-Learning/week-04/experiments/experiments.ipynb#ch0000007?line=11'>12</a>\u001b[0m AL, caches \u001b[39m=\u001b[39m L_model_forward(X, parameters)\n\u001b[0;32m     <a href='vscode-notebook-cell:/e%3A/work/coursera-deep-learning-specialization/01-Neural-Networks-and-Deep-Learning/week-04/experiments/experiments.ipynb#ch0000007?line=12'>13</a>\u001b[0m cost \u001b[39m=\u001b[39m compute_cost(AL, Y)\n\u001b[1;32m---> <a href='vscode-notebook-cell:/e%3A/work/coursera-deep-learning-specialization/01-Neural-Networks-and-Deep-Learning/week-04/experiments/experiments.ipynb#ch0000007?line=13'>14</a>\u001b[0m grads \u001b[39m=\u001b[39m L_model_backward(AL, Y, caches)\n\u001b[0;32m     <a href='vscode-notebook-cell:/e%3A/work/coursera-deep-learning-specialization/01-Neural-Networks-and-Deep-Learning/week-04/experiments/experiments.ipynb#ch0000007?line=14'>15</a>\u001b[0m parameters \u001b[39m=\u001b[39m update_parameters(parameters, grads, learning_rate)\n\u001b[0;32m     <a href='vscode-notebook-cell:/e%3A/work/coursera-deep-learning-specialization/01-Neural-Networks-and-Deep-Learning/week-04/experiments/experiments.ipynb#ch0000007?line=16'>17</a>\u001b[0m \u001b[39m# Print the cost every 100 iterations\u001b[39;00m\n",
      "File \u001b[1;32me:\\work\\coursera-deep-learning-specialization\\01-Neural-Networks-and-Deep-Learning\\week-04\\experiments\\dnn_app_utils_v3_diogo.py:376\u001b[0m, in \u001b[0;36mL_model_backward\u001b[1;34m(AL, Y, caches)\u001b[0m\n\u001b[0;32m    <a href='file:///e%3A/work/coursera-deep-learning-specialization/01-Neural-Networks-and-Deep-Learning/week-04/experiments/dnn_app_utils_v3_diogo.py?line=372'>373</a>\u001b[0m \u001b[39mfor\u001b[39;00m l \u001b[39min\u001b[39;00m \u001b[39mreversed\u001b[39m(\u001b[39mrange\u001b[39m(L\u001b[39m-\u001b[39m\u001b[39m1\u001b[39m)):\n\u001b[0;32m    <a href='file:///e%3A/work/coursera-deep-learning-specialization/01-Neural-Networks-and-Deep-Learning/week-04/experiments/dnn_app_utils_v3_diogo.py?line=373'>374</a>\u001b[0m     \u001b[39m# lth layer: (RELU -> LINEAR) gradients.\u001b[39;00m\n\u001b[0;32m    <a href='file:///e%3A/work/coursera-deep-learning-specialization/01-Neural-Networks-and-Deep-Learning/week-04/experiments/dnn_app_utils_v3_diogo.py?line=374'>375</a>\u001b[0m     current_cache \u001b[39m=\u001b[39m caches[l]\n\u001b[1;32m--> <a href='file:///e%3A/work/coursera-deep-learning-specialization/01-Neural-Networks-and-Deep-Learning/week-04/experiments/dnn_app_utils_v3_diogo.py?line=375'>376</a>\u001b[0m     dA_prev_temp, dW_temp, db_temp \u001b[39m=\u001b[39m linear_activation_backward(grads[\u001b[39m\"\u001b[39;49m\u001b[39mdA\u001b[39;49m\u001b[39m\"\u001b[39;49m \u001b[39m+\u001b[39;49m \u001b[39mstr\u001b[39;49m(l \u001b[39m+\u001b[39;49m \u001b[39m1\u001b[39;49m)], current_cache, activation \u001b[39m=\u001b[39;49m \u001b[39m\"\u001b[39;49m\u001b[39mrelu\u001b[39;49m\u001b[39m\"\u001b[39;49m)\n\u001b[0;32m    <a href='file:///e%3A/work/coursera-deep-learning-specialization/01-Neural-Networks-and-Deep-Learning/week-04/experiments/dnn_app_utils_v3_diogo.py?line=376'>377</a>\u001b[0m     grads[\u001b[39m\"\u001b[39m\u001b[39mdA\u001b[39m\u001b[39m\"\u001b[39m \u001b[39m+\u001b[39m \u001b[39mstr\u001b[39m(l)] \u001b[39m=\u001b[39m dA_prev_temp\n\u001b[0;32m    <a href='file:///e%3A/work/coursera-deep-learning-specialization/01-Neural-Networks-and-Deep-Learning/week-04/experiments/dnn_app_utils_v3_diogo.py?line=377'>378</a>\u001b[0m     grads[\u001b[39m\"\u001b[39m\u001b[39mdW\u001b[39m\u001b[39m\"\u001b[39m \u001b[39m+\u001b[39m \u001b[39mstr\u001b[39m(l \u001b[39m+\u001b[39m \u001b[39m1\u001b[39m)] \u001b[39m=\u001b[39m dW_temp\n",
      "File \u001b[1;32me:\\work\\coursera-deep-learning-specialization\\01-Neural-Networks-and-Deep-Learning\\week-04\\experiments\\dnn_app_utils_v3_diogo.py:336\u001b[0m, in \u001b[0;36mlinear_activation_backward\u001b[1;34m(dA, cache, activation)\u001b[0m\n\u001b[0;32m    <a href='file:///e%3A/work/coursera-deep-learning-specialization/01-Neural-Networks-and-Deep-Learning/week-04/experiments/dnn_app_utils_v3_diogo.py?line=333'>334</a>\u001b[0m \u001b[39mif\u001b[39;00m activation \u001b[39m==\u001b[39m \u001b[39m\"\u001b[39m\u001b[39mrelu\u001b[39m\u001b[39m\"\u001b[39m:\n\u001b[0;32m    <a href='file:///e%3A/work/coursera-deep-learning-specialization/01-Neural-Networks-and-Deep-Learning/week-04/experiments/dnn_app_utils_v3_diogo.py?line=334'>335</a>\u001b[0m     dZ \u001b[39m=\u001b[39m relu_backward(dA, activation_cache)\n\u001b[1;32m--> <a href='file:///e%3A/work/coursera-deep-learning-specialization/01-Neural-Networks-and-Deep-Learning/week-04/experiments/dnn_app_utils_v3_diogo.py?line=335'>336</a>\u001b[0m     dA_prev, dW, db \u001b[39m=\u001b[39m linear_backward(dZ, linear_cache)\n\u001b[0;32m    <a href='file:///e%3A/work/coursera-deep-learning-specialization/01-Neural-Networks-and-Deep-Learning/week-04/experiments/dnn_app_utils_v3_diogo.py?line=337'>338</a>\u001b[0m \u001b[39melif\u001b[39;00m activation \u001b[39m==\u001b[39m \u001b[39m\"\u001b[39m\u001b[39msigmoid\u001b[39m\u001b[39m\"\u001b[39m:\n\u001b[0;32m    <a href='file:///e%3A/work/coursera-deep-learning-specialization/01-Neural-Networks-and-Deep-Learning/week-04/experiments/dnn_app_utils_v3_diogo.py?line=338'>339</a>\u001b[0m     dZ \u001b[39m=\u001b[39m sigmoid_backward(dA, activation_cache)\n",
      "File \u001b[1;32me:\\work\\coursera-deep-learning-specialization\\01-Neural-Networks-and-Deep-Learning\\week-04\\experiments\\dnn_app_utils_v3_diogo.py:308\u001b[0m, in \u001b[0;36mlinear_backward\u001b[1;34m(dZ, cache)\u001b[0m\n\u001b[0;32m    <a href='file:///e%3A/work/coursera-deep-learning-specialization/01-Neural-Networks-and-Deep-Learning/week-04/experiments/dnn_app_utils_v3_diogo.py?line=304'>305</a>\u001b[0m A_prev, W, b \u001b[39m=\u001b[39m cache\n\u001b[0;32m    <a href='file:///e%3A/work/coursera-deep-learning-specialization/01-Neural-Networks-and-Deep-Learning/week-04/experiments/dnn_app_utils_v3_diogo.py?line=305'>306</a>\u001b[0m m \u001b[39m=\u001b[39m A_prev\u001b[39m.\u001b[39mshape[\u001b[39m1\u001b[39m]\n\u001b[1;32m--> <a href='file:///e%3A/work/coursera-deep-learning-specialization/01-Neural-Networks-and-Deep-Learning/week-04/experiments/dnn_app_utils_v3_diogo.py?line=307'>308</a>\u001b[0m dW \u001b[39m=\u001b[39m \u001b[39m1.\u001b[39m\u001b[39m/\u001b[39mm \u001b[39m*\u001b[39m np\u001b[39m.\u001b[39;49mdot(dZ,A_prev\u001b[39m.\u001b[39;49mT)\n\u001b[0;32m    <a href='file:///e%3A/work/coursera-deep-learning-specialization/01-Neural-Networks-and-Deep-Learning/week-04/experiments/dnn_app_utils_v3_diogo.py?line=308'>309</a>\u001b[0m db \u001b[39m=\u001b[39m \u001b[39m1.\u001b[39m\u001b[39m/\u001b[39mm \u001b[39m*\u001b[39m np\u001b[39m.\u001b[39msum(dZ, axis \u001b[39m=\u001b[39m \u001b[39m1\u001b[39m, keepdims \u001b[39m=\u001b[39m \u001b[39mTrue\u001b[39;00m)\n\u001b[0;32m    <a href='file:///e%3A/work/coursera-deep-learning-specialization/01-Neural-Networks-and-Deep-Learning/week-04/experiments/dnn_app_utils_v3_diogo.py?line=309'>310</a>\u001b[0m dA_prev \u001b[39m=\u001b[39m np\u001b[39m.\u001b[39mdot(W\u001b[39m.\u001b[39mT,dZ)\n",
      "File \u001b[1;32m<__array_function__ internals>:5\u001b[0m, in \u001b[0;36mdot\u001b[1;34m(*args, **kwargs)\u001b[0m\n",
      "\u001b[1;31mKeyboardInterrupt\u001b[0m: "
     ]
    }
   ],
   "source": [
    "layers_dims = [12288, 20, 7, 5, 1] #  4-layer model\n",
    "\n",
    "def L_layer_model(X, Y, layers_dims, learning_rate = 0.0075, num_iterations = 3000, print_cost=False):\n",
    "    np.random.seed(1)\n",
    "    costs = []                         # keep track of cost\n",
    "    \n",
    "    # Parameters initialization.\n",
    "    parameters = initialize_parameters_deep(layers_dims)\n",
    "\n",
    "    # Loop (gradient descent)\n",
    "    for i in range(0, num_iterations):\n",
    "        AL, caches = L_model_forward(X, parameters)\n",
    "        cost = compute_cost(AL, Y)\n",
    "        grads = L_model_backward(AL, Y, caches)\n",
    "        parameters = update_parameters(parameters, grads, learning_rate)\n",
    "                \n",
    "        # Print the cost every 100 iterations\n",
    "        if print_cost and i % 100 == 0 or i == num_iterations - 1:\n",
    "            print(\"Cost after iteration {}: {}\".format(i, np.squeeze(cost)))\n",
    "        if i % 100 == 0 or i == num_iterations:\n",
    "            costs.append(cost)\n",
    "    \n",
    "    return parameters, costs\n",
    "\n",
    "learning_rate = 0.0003\n",
    "\n",
    "tic = time.process_time()\n",
    "parameters, costs = L_layer_model(train_x, train_y, layers_dims, num_iterations = 12500, print_cost = True, learning_rate = 0.01)\n",
    "toc = time.process_time()\n",
    "processing_time = 1000 * (toc - tic)\n",
    "print('Processing time: ', str(processing_time) )\n",
    "\n",
    "pred_train = predict(train_x, train_y, parameters)\n",
    "pred_test = predict(test_x, test_y, parameters)\n",
    "\n",
    "\n",
    "\n",
    "plot_costs(costs, learning_rate)\n"
   ]
  },
  {
   "cell_type": "markdown",
   "metadata": {},
   "source": [
    "### Experiment 3 - Adding regularizaiton in cost and gradient descent\n",
    "\n",
    "Term to add in cost function \n",
    "\n",
    "$ \\frac { \\lambda \\sum_{j=1}^n W_j^2 } {m} $\n",
    "\n",
    "\n",
    "Term to add in gradient descent \n",
    "\n",
    "$ \\frac { \\lambda \\sum_{j=1}^n W_j } {m} $\n",
    "\n",
    "\n",
    "\n",
    "We do not regularize bias term.\n",
    "\n",
    "\n"
   ]
  },
  {
   "cell_type": "code",
   "execution_count": 32,
   "metadata": {},
   "outputs": [
    {
     "name": "stdout",
     "output_type": "stream",
     "text": [
      "Cost after iteration 0: 0.6999625328152985\n",
      "Cost after iteration 100: 0.6377033394793008\n",
      "Cost after iteration 200: 0.607403081499827\n",
      "Cost after iteration 300: 0.4161259260787242\n",
      "Cost after iteration 400: 0.4003405677038663\n",
      "Cost after iteration 500: 0.41768233628418816\n",
      "Cost after iteration 600: 0.15591914734018877\n",
      "Cost after iteration 700: 0.10393874970212512\n",
      "Cost after iteration 800: 0.0641118640974797\n",
      "Cost after iteration 900: 0.7427235978141621\n",
      "Cost after iteration 1000: 0.6806852468920941\n",
      "Cost after iteration 1100: 0.6573712812044704\n",
      "Cost after iteration 1200: 0.6453788542656591\n",
      "Cost after iteration 1300: 0.6224165576014473\n",
      "Cost after iteration 1400: 0.6187036251443744\n",
      "Cost after iteration 1499: 0.6059255192103367\n",
      "Processing time:  502640.625\n",
      "Accuracy: 0.6555023923444976\n",
      "Accuracy: 0.3400000000000001\n"
     ]
    },
    {
     "data": {
      "image/png": "[encoded data removed]",
      "text/plain": [
       "<Figure size 360x288 with 1 Axes>"
      ]
     },
     "metadata": {
      "needs_background": "light"
     },
     "output_type": "display_data"
    }
   ],
   "source": [
    "layers_dims = [12288, 256, 40, 20, 15, 10, 7, 5, 1] #  4-layer model\n",
    "\n",
    "def compute_cost_with_regularization(AL, Y, regularization, parameters):\n",
    "    m = Y.shape[1]\n",
    "\n",
    "    firstTerm = np.squeeze (-np.dot(Y,np.log(AL).T) - np.dot(1-Y, np.log(1-AL).T))\n",
    "    regularizationTerm = 0\n",
    "\n",
    "    L = len(parameters) // 2\n",
    "    for l in range(L):\n",
    "        regularizationTerm = np.squeeze(np.sum(np.dot(parameters[\"W\" + str(l+1)], parameters[\"W\" + str(l+1)].T)))\n",
    "\n",
    "\n",
    "    # print(regularizationTerm)\n",
    "    \n",
    "    cost = (1./m) * (firstTerm + regularizationTerm)\n",
    "    \n",
    "    # cost = np.squeeze(cost)      # To make sure your cost's shape is what we expect (e.g. this turns [[17]] into 17).\n",
    "    assert(cost.shape == ())\n",
    "    \n",
    "    return cost\n",
    "\n",
    "def update_parameters_with_regularization(parameters, grads, learning_rate, regularization):\n",
    "    L = len(parameters) // 2 # number of layers in the neural network\n",
    "\n",
    "    for l in range(L):\n",
    "        regularizationTerm = regularization * parameters[\"W\" + str(l+1)]\n",
    "        parameters[\"W\" + str(l+1)] = parameters[\"W\" + str(l+1)] - learning_rate *( grads[\"dW\" + str(l+1)] + regularizationTerm )\n",
    "        parameters[\"b\" + str(l+1)] = parameters[\"b\" + str(l+1)] - learning_rate * grads[\"db\" + str(l+1)]\n",
    "        \n",
    "    return parameters\n",
    "\n",
    "def L_layer_model_with_regularization(X, Y, layers_dims, learning_rate = 0.0075, num_iterations = 3000, print_cost=False, regularization=0.01):\n",
    "    np.random.seed(1)\n",
    "    costs = []                         # keep track of cost\n",
    "    accuracy_training = []\n",
    "    accuracy_test = []\n",
    "\n",
    "    # Parameters initialization.\n",
    "    parameters = initialize_parameters_deep(layers_dims)\n",
    "\n",
    "    # Loop (gradient descent)\n",
    "    for i in range(0, num_iterations):\n",
    "        AL, caches = L_model_forward(X, parameters)\n",
    "        cost = compute_cost_with_regularization(AL, Y, regularization, parameters)\n",
    "        grads = L_model_backward(AL, Y, caches)\n",
    "        parameters = update_parameters_with_regularization(parameters, grads, learning_rate, regularization)\n",
    "                \n",
    "        # Print the cost every 100 iterations\n",
    "        if print_cost and i % 100 == 0 or i == num_iterations - 1:\n",
    "            print(\"Cost after iteration {}: {}\".format(i, np.squeeze(cost)))\n",
    "        if i % 50 == 0 or i == num_iterations:\n",
    "            costs.append(cost)\n",
    "            accuracy_training.append( accuracy(train_x, train_y, parameters) )\n",
    "            accuracy_test.append ( accuracy(test_x, test_y, parameters) )\n",
    "    return parameters, costs, accuracy_training, accuracy_test\n",
    "\n",
    "\n",
    "learning_rate = 0.0075\n",
    "\n",
    "tic = time.process_time()\n",
    "parameters, costs, accuracy_training, accuracy_test = L_layer_model_with_regularization(train_x, train_y, layers_dims, learning_rate = 0.03, num_iterations = 1500, print_cost = True, regularization=0.001)\n",
    "toc = time.process_time()\n",
    "processing_time = 1000 * (toc - tic)\n",
    "print('Processing time: ', str(processing_time) )\n",
    "\n",
    "pred_train = predict(train_x, train_y, parameters)\n",
    "pred_test = predict(test_x, test_y, parameters)\n",
    "\n",
    "\n",
    "\n",
    "plot_costs(costs, learning_rate)\n"
   ]
  },
  {
   "cell_type": "code",
   "execution_count": 4,
   "metadata": {},
   "outputs": [
    {
     "data": {
      "image/png": "[encoded data removed]",
      "text/plain": [
       "<Figure size 360x288 with 1 Axes>"
      ]
     },
     "metadata": {
      "needs_background": "light"
     },
     "output_type": "display_data"
    }
   ],
   "source": [
    "plt.plot(np.squeeze(accuracy_training))\n",
    "plt.plot(np.squeeze(accuracy_test))\n",
    "\n",
    "plt.ylabel('accuracy_training')\n",
    "plt.xlabel('iterations (per hundreds)')\n",
    "plt.title(\"Learning curve\")\n",
    "plt.show()"
   ]
  },
  {
   "cell_type": "code",
   "execution_count": 23,
   "metadata": {},
   "outputs": [
    {
     "name": "stderr",
     "output_type": "stream",
     "text": [
      "Clipping input data to the valid range for imshow with RGB data ([0..1] for floats or [0..255] for integers).\n"
     ]
    },
    {
     "data": {
      "text/plain": [
       "<matplotlib.image.AxesImage at 0x1f1ea3f5dc0>"
      ]
     },
     "execution_count": 23,
     "metadata": {},
     "output_type": "execute_result"
    },
    {
     "data": {
      "image/png": "[encoded data removed]",
      "text/plain": [
       "<Figure size 360x288 with 1 Axes>"
      ]
     },
     "metadata": {
      "needs_background": "light"
     },
     "output_type": "display_data"
    }
   ],
   "source": [
    "plt.imshow(parameters['W1'][10].reshape(64, 64 ,3))"
   ]
  },
  {
   "cell_type": "code",
   "execution_count": 30,
   "metadata": {},
   "outputs": [
    {
     "data": {
      "text/plain": [
       "<matplotlib.image.AxesImage at 0x1f1ee176fd0>"
      ]
     },
     "execution_count": 30,
     "metadata": {},
     "output_type": "execute_result"
    },
    {
     "data": {
      "image/png": "[encoded data removed]",
      "text/plain": [
       "<Figure size 360x288 with 1 Axes>"
      ]
     },
     "metadata": {
      "needs_background": "light"
     },
     "output_type": "display_data"
    }
   ],
   "source": [
    "plt.imshow(parameters['W2'][11].reshape(8,5))"
   ]
  }
 ],
 "metadata": {
  "interpreter": {
   "hash": "832570e78e7f479525d259d2815c5b65773a49263e9055eb025684c9017ad6c2"
  },
  "kernelspec": {
   "display_name": "Python 3.8.10 ('ml-zoomcamp')",
   "language": "python",
   "name": "python3"
  },
  "language_info": {
   "codemirror_mode": {
    "name": "ipython",
    "version": 3
   },
   "file_extension": ".py",
   "mimetype": "text/x-python",
   "name": "python",
   "nbconvert_exporter": "python",
   "pygments_lexer": "ipython3",
   "version": "3.8.10"
  },
  "orig_nbformat": 4
 },
 "nbformat": 4,
 "nbformat_minor": 2
}
