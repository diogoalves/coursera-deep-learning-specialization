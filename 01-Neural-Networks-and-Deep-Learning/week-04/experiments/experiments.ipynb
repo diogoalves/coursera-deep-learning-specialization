{
 "cells": [
  {
   "cell_type": "markdown",
   "metadata": {},
   "source": [
    "## Setup"
   ]
  },
  {
   "cell_type": "code",
   "execution_count": 1,
   "metadata": {},
   "outputs": [
    {
     "name": "stdout",
     "output_type": "stream",
     "text": [
      "\n",
      "Setup complete!\n"
     ]
    }
   ],
   "source": [
    "import time\n",
    "import numpy as np\n",
    "import h5py\n",
    "import matplotlib.pyplot as plt\n",
    "import scipy\n",
    "from PIL import Image\n",
    "from scipy import ndimage\n",
    "from dnn_app_utils_v3_diogo import *\n",
    "\n",
    "\n",
    "%matplotlib inline\n",
    "plt.rcParams['figure.figsize'] = (5.0, 4.0) # set default size of plots\n",
    "plt.rcParams['image.interpolation'] = 'nearest'\n",
    "plt.rcParams['image.cmap'] = 'gray'\n",
    "\n",
    "np.random.seed(1)\n",
    "\n",
    "train_x_orig, train_y, test_x_orig, test_y, classes = load_data()\n",
    "\n",
    "# Reshape the training and test examples \n",
    "train_x_flatten = train_x_orig.reshape(train_x_orig.shape[0], -1).T   # The \"-1\" makes reshape flatten the remaining dimensions\n",
    "test_x_flatten = test_x_orig.reshape(test_x_orig.shape[0], -1).T\n",
    "\n",
    "# Standardize data to have feature values between 0 and 1.\n",
    "train_x = train_x_flatten/255.\n",
    "test_x = test_x_flatten/255.\n",
    "\n",
    "def plot_costs(costs, learning_rate=0.0075):\n",
    "    plt.plot(np.squeeze(costs))\n",
    "    plt.ylabel('cost')\n",
    "    plt.xlabel('iterations (per hundreds)')\n",
    "    plt.title(\"Learning rate =\" + str(learning_rate))\n",
    "    plt.show()\n",
    "\n",
    "print('\\nSetup complete!')"
   ]
  },
  {
   "cell_type": "markdown",
   "metadata": {},
   "source": [
    "## Baseline\n",
    "\n",
    "use final 4-Layers model from week-04 assignment-02 as a baseline\n",
    "\n",
    "```\n",
    "Processing time:  90718.75\n",
    "Train Accuracy: 0.9808612440191385\n",
    "Test Accuracy: 0.8200000000000001\n",
    "```"
   ]
  },
  {
   "cell_type": "code",
   "execution_count": 3,
   "metadata": {},
   "outputs": [
    {
     "name": "stdout",
     "output_type": "stream",
     "text": [
      "Cost after iteration 0: 0.7717493284237686\n",
      "Cost after iteration 100: 0.6720534400822914\n",
      "Cost after iteration 200: 0.6482632048575212\n",
      "Cost after iteration 300: 0.6115068816101354\n",
      "Cost after iteration 400: 0.5670473268366111\n",
      "Cost after iteration 500: 0.5401376634547801\n",
      "Cost after iteration 600: 0.5279299569455267\n",
      "Cost after iteration 700: 0.46547737717668514\n",
      "Cost after iteration 800: 0.36912585249592794\n",
      "Cost after iteration 900: 0.39174697434805344\n",
      "Cost after iteration 1000: 0.3151869888600617\n",
      "Cost after iteration 1100: 0.2726998441789385\n",
      "Cost after iteration 1200: 0.23741853400268137\n",
      "Cost after iteration 1300: 0.19960120532208647\n",
      "Cost after iteration 1400: 0.18926300388463305\n",
      "Cost after iteration 1499: 0.1609978212526493\n",
      "Processing time:  90718.75\n",
      "Accuracy: 0.9808612440191385\n",
      "Accuracy: 0.8200000000000001\n"
     ]
    },
    {
     "data": {
      "image/png": "[encoded data removed]",
      "text/plain": [
       "<Figure size 360x288 with 1 Axes>"
      ]
     },
     "metadata": {
      "needs_background": "light"
     },
     "output_type": "display_data"
    }
   ],
   "source": [
    "layers_dims = [12288, 20, 7, 5, 1] #  4-layer model\n",
    "\n",
    "def L_layer_model(X, Y, layers_dims, learning_rate = 0.0075, num_iterations = 3000, print_cost=False):\n",
    "    np.random.seed(1)\n",
    "    costs = []                         # keep track of cost\n",
    "    \n",
    "    # Parameters initialization.\n",
    "    parameters = initialize_parameters_deep(layers_dims)\n",
    "\n",
    "    # Loop (gradient descent)\n",
    "    for i in range(0, num_iterations):\n",
    "        AL, caches = L_model_forward(X, parameters)\n",
    "        cost = compute_cost(AL, Y)\n",
    "        grads = L_model_backward(AL, Y, caches)\n",
    "        parameters = update_parameters(parameters, grads, learning_rate)\n",
    "                \n",
    "        # Print the cost every 100 iterations\n",
    "        if print_cost and i % 100 == 0 or i == num_iterations - 1:\n",
    "            print(\"Cost after iteration {}: {}\".format(i, np.squeeze(cost)))\n",
    "        if i % 100 == 0 or i == num_iterations:\n",
    "            costs.append(cost)\n",
    "    \n",
    "    return parameters, costs\n",
    "\n",
    "learning_rate = 0.0075\n",
    "\n",
    "tic = time.process_time()\n",
    "parameters, costs = L_layer_model(train_x, train_y, layers_dims, num_iterations = 1500, print_cost = True)\n",
    "toc = time.process_time()\n",
    "processing_time = 1000 * (toc - tic)\n",
    "print('Processing time: ', str(processing_time) )\n",
    "\n",
    "pred_train = predict(train_x, train_y, parameters)\n",
    "pred_test = predict(test_x, test_y, parameters)\n",
    "\n",
    "\n",
    "\n",
    "plot_costs(costs, learning_rate)\n"
   ]
  },
  {
   "cell_type": "markdown",
   "metadata": {},
   "source": [
    "#### Experiment 1 - Changing relu function to test if theres is any peformance impact\n",
    "\n",
    "I tried changing relu forward propagation function for one of those in [How to implement the ReLU function in Numpy](https://stackoverflow.com/questions/32109319/how-to-implement-the-relu-function-in-numpy)\n",
    "\n",
    "The best suggestions make use of change inplace. \n",
    "In current architecture, inplace changing do not make sense because the original Z need to be passed to relu_backward function.\n",
    "\n",
    "Tried changing the relu from np.maximum to a multiply function but I cannot see any improvement.\n",
    "Probably because this function is not the dominant in execution time.\n",
    "\n",
    "The test was done changing linear_activation_forward function directly to call relu optimized functions.\n",
    "\n",
    "\n"
   ]
  },
  {
   "cell_type": "code",
   "execution_count": 2,
   "metadata": {},
   "outputs": [
    {
     "name": "stdout",
     "output_type": "stream",
     "text": [
      "Cost after iteration 0: 0.7717493284237686\n",
      "Cost after iteration 100: 0.6720534400822914\n",
      "Cost after iteration 200: 0.6482632048575212\n",
      "Cost after iteration 300: 0.6115068816101354\n",
      "Cost after iteration 400: 0.5670473268366111\n",
      "Cost after iteration 500: 0.5401376634547801\n",
      "Cost after iteration 600: 0.5279299569455267\n",
      "Cost after iteration 700: 0.46547737717668514\n",
      "Cost after iteration 800: 0.36912585249592794\n",
      "Cost after iteration 900: 0.39174697434805344\n",
      "Cost after iteration 1000: 0.3151869888600617\n",
      "Cost after iteration 1100: 0.2726998441789385\n",
      "Cost after iteration 1200: 0.23741853400268137\n",
      "Cost after iteration 1300: 0.19960120532208647\n",
      "Cost after iteration 1400: 0.18926300388463305\n",
      "Cost after iteration 1499: 0.1609978212526493\n",
      "Processing time:  92093.75\n",
      "Accuracy: 0.9808612440191385\n",
      "Accuracy: 0.8200000000000001\n"
     ]
    },
    {
     "data": {
      "image/png": "[encoded data removed]",
      "text/plain": [
       "<Figure size 360x288 with 1 Axes>"
      ]
     },
     "metadata": {
      "needs_background": "light"
     },
     "output_type": "display_data"
    }
   ],
   "source": [
    "layers_dims = [12288, 20, 7, 5, 1] #  4-layer model\n",
    "\n",
    "def L_layer_model(X, Y, layers_dims, learning_rate = 0.0075, num_iterations = 3000, print_cost=False):\n",
    "    np.random.seed(1)\n",
    "    costs = []                         # keep track of cost\n",
    "    \n",
    "    # Parameters initialization.\n",
    "    parameters = initialize_parameters_deep(layers_dims)\n",
    "\n",
    "    # Loop (gradient descent)\n",
    "    for i in range(0, num_iterations):\n",
    "        AL, caches = L_model_forward(X, parameters)\n",
    "        cost = compute_cost(AL, Y)\n",
    "        grads = L_model_backward(AL, Y, caches)\n",
    "        parameters = update_parameters(parameters, grads, learning_rate)\n",
    "                \n",
    "        # Print the cost every 100 iterations\n",
    "        if print_cost and i % 100 == 0 or i == num_iterations - 1:\n",
    "            print(\"Cost after iteration {}: {}\".format(i, np.squeeze(cost)))\n",
    "        if i % 100 == 0 or i == num_iterations:\n",
    "            costs.append(cost)\n",
    "    \n",
    "    return parameters, costs\n",
    "\n",
    "learning_rate = 0.0075\n",
    "\n",
    "tic = time.process_time()\n",
    "parameters, costs = L_layer_model(train_x, train_y, layers_dims, num_iterations = 1500, print_cost = True)\n",
    "toc = time.process_time()\n",
    "processing_time = 1000 * (toc - tic)\n",
    "print('Processing time: ', str(processing_time) )\n",
    "\n",
    "pred_train = predict(train_x, train_y, parameters)\n",
    "pred_test = predict(test_x, test_y, parameters)\n",
    "\n",
    "\n",
    "\n",
    "plot_costs(costs, learning_rate)"
   ]
  },
  {
   "cell_type": "markdown",
   "metadata": {},
   "source": [
    "### Experiment 2 - Using leaky relu instead instead to relu\n",
    "\n",
    "hypothesis: the gradient descent will converge slightly faster\n",
    "\n",
    "\n",
    "The test was done changing linear_activation_forward and linear_activation_backward functions directly to call leaky relu forward and backward functions.\n",
    "\n",
    "\n",
    "results: I am not sure what has happned. The execution did not converge. \n",
    "\n",
    "Tried also reducing the learning rate, but still not converging. May be I have implemented something wrong, I am not sure whats is the problem.\n",
    "\n",
    "Things are not easy as seen"
   ]
  },
  {
   "cell_type": "code",
   "execution_count": 38,
   "metadata": {},
   "outputs": [
    {
     "name": "stdout",
     "output_type": "stream",
     "text": [
      "Cost after iteration 0: 0.7717493284237686\n",
      "Cost after iteration 100: 0.6692696631401115\n",
      "Cost after iteration 200: 0.6388738671173996\n",
      "Cost after iteration 300: 0.5978842419394992\n",
      "Cost after iteration 400: 0.5688271812027766\n",
      "Cost after iteration 500: 0.4612600061610806\n",
      "Cost after iteration 600: 0.5084836067888391\n",
      "Cost after iteration 700: 0.32759554824353243\n",
      "Cost after iteration 800: 0.3103980005754491\n",
      "Cost after iteration 900: 0.2488305281626642\n",
      "Cost after iteration 1000: 0.20730930330849956\n",
      "Cost after iteration 1100: 0.14048537378492806\n",
      "Cost after iteration 1200: 0.11567032435733039\n",
      "Cost after iteration 1300: 0.09925963099373132\n",
      "Cost after iteration 1400: 0.08584462857591119\n",
      "Cost after iteration 1500: 0.07497507157629975\n",
      "Cost after iteration 1600: 0.067808819508068\n",
      "Cost after iteration 1700: 0.05840152716698281\n",
      "Cost after iteration 1800: 0.05205409767343473\n",
      "Cost after iteration 1900: 0.04767964899529183\n",
      "Cost after iteration 2000: 0.042258944535071216\n",
      "Cost after iteration 2100: 0.03779723515289589\n",
      "Cost after iteration 2200: 0.03473029997869358\n",
      "Cost after iteration 2300: 0.03139111545378387\n",
      "Cost after iteration 2400: 0.02878757407026213\n",
      "Cost after iteration 2499: 0.02666281261085066\n",
      "Processing time:  156343.75\n",
      "Accuracy: 0.9999999999999998\n",
      "Accuracy: 0.8400000000000001\n"
     ]
    },
    {
     "data": {
      "image/png": "[encoded data removed]",
      "text/plain": [
       "<Figure size 360x288 with 1 Axes>"
      ]
     },
     "metadata": {
      "needs_background": "light"
     },
     "output_type": "display_data"
    }
   ],
   "source": [
    "layers_dims = [12288, 20, 7, 5, 1] #  4-layer model\n",
    "\n",
    "def L_layer_model(X, Y, layers_dims, learning_rate = 0.0075, num_iterations = 3000, print_cost=False):\n",
    "    np.random.seed(1)\n",
    "    costs = []                         # keep track of cost\n",
    "    \n",
    "    # Parameters initialization.\n",
    "    parameters = initialize_parameters_deep(layers_dims)\n",
    "\n",
    "    # Loop (gradient descent)\n",
    "    for i in range(0, num_iterations):\n",
    "        AL, caches = L_model_forward(X, parameters)\n",
    "        cost = compute_cost(AL, Y)\n",
    "        grads = L_model_backward(AL, Y, caches)\n",
    "        parameters = update_parameters(parameters, grads, learning_rate)\n",
    "                \n",
    "        # Print the cost every 100 iterations\n",
    "        if print_cost and i % 100 == 0 or i == num_iterations - 1:\n",
    "            print(\"Cost after iteration {}: {}\".format(i, np.squeeze(cost)))\n",
    "        if i % 100 == 0 or i == num_iterations:\n",
    "            costs.append(cost)\n",
    "    \n",
    "    return parameters, costs\n",
    "\n",
    "learning_rate = 0.0003\n",
    "\n",
    "tic = time.process_time()\n",
    "parameters, costs = L_layer_model(train_x, train_y, layers_dims, num_iterations = 12500, print_cost = True, learning_rate = 0.01)\n",
    "toc = time.process_time()\n",
    "processing_time = 1000 * (toc - tic)\n",
    "print('Processing time: ', str(processing_time) )\n",
    "\n",
    "pred_train = predict(train_x, train_y, parameters)\n",
    "pred_test = predict(test_x, test_y, parameters)\n",
    "\n",
    "\n",
    "\n",
    "plot_costs(costs, learning_rate)\n"
   ]
  },
  {
   "cell_type": "markdown",
   "metadata": {},
   "source": [
    "### Experiment 3 - Adding regularizaiton in cost and gradient descent\n",
    "\n",
    "Term to add in cost function \n",
    "\n",
    "$ \\frac { \\lambda \\sum_{j=1}^n W_j^2 } {m} $\n",
    "\n",
    "\n",
    "Term to add in gradient descent \n",
    "\n",
    "$ \\frac { \\lambda \\sum_{j=1}^n W_j } {m} $\n",
    "\n",
    "\n",
    "\n",
    "We do not regularize bias term.\n",
    "\n",
    "\n"
   ]
  },
  {
   "cell_type": "code",
   "execution_count": 42,
   "metadata": {},
   "outputs": [
    {
     "name": "stdout",
     "output_type": "stream",
     "text": [
      "Cost after iteration 0: 0.6956392079247663\n",
      "Cost after iteration 100: 0.584445192535293\n",
      "Cost after iteration 200: 0.5357578728820465\n",
      "Cost after iteration 300: 0.4713333327232986\n",
      "Cost after iteration 400: 0.40832612933403295\n",
      "Cost after iteration 499: 0.3315645098205845\n",
      "Processing time:  169578.125\n",
      "Accuracy: 0.8133971291866028\n",
      "Accuracy: 0.5\n"
     ]
    },
    {
     "data": {
      "image/png": "[encoded data removed]",
      "text/plain": [
       "<Figure size 360x288 with 1 Axes>"
      ]
     },
     "metadata": {
      "needs_background": "light"
     },
     "output_type": "display_data"
    }
   ],
   "source": [
    "layers_dims = [12288, 256, 20, 7, 5, 1] #  4-layer model\n",
    "\n",
    "def compute_cost_with_regularization(AL, Y, regularization, parameters):\n",
    "    m = Y.shape[1]\n",
    "\n",
    "    firstTerm = np.squeeze (-np.dot(Y,np.log(AL).T) - np.dot(1-Y, np.log(1-AL).T))\n",
    "    regularizationTerm = 0\n",
    "\n",
    "    L = len(parameters) // 2\n",
    "    for l in range(L):\n",
    "        regularizationTerm = np.squeeze(np.sum(np.dot(parameters[\"W\" + str(l+1)], parameters[\"W\" + str(l+1)].T)))\n",
    "\n",
    "\n",
    "    # print(regularizationTerm)\n",
    "    \n",
    "    cost = (1./m) * (firstTerm + regularizationTerm)\n",
    "    \n",
    "    # cost = np.squeeze(cost)      # To make sure your cost's shape is what we expect (e.g. this turns [[17]] into 17).\n",
    "    assert(cost.shape == ())\n",
    "    \n",
    "    return cost\n",
    "\n",
    "def update_parameters_with_regularization(parameters, grads, learning_rate, regularization):\n",
    "    L = len(parameters) // 2 # number of layers in the neural network\n",
    "\n",
    "    for l in range(L):\n",
    "        regularizationTerm = regularization * parameters[\"W\" + str(l+1)]\n",
    "        parameters[\"W\" + str(l+1)] = parameters[\"W\" + str(l+1)] - learning_rate *( grads[\"dW\" + str(l+1)] + regularizationTerm )\n",
    "        parameters[\"b\" + str(l+1)] = parameters[\"b\" + str(l+1)] - learning_rate * grads[\"db\" + str(l+1)]\n",
    "        \n",
    "    return parameters\n",
    "\n",
    "def L_layer_model_with_regularization(X, Y, layers_dims, learning_rate = 0.0075, num_iterations = 3000, print_cost=False, regularization=0.01):\n",
    "    np.random.seed(1)\n",
    "    costs = []                         # keep track of cost\n",
    "    \n",
    "    # Parameters initialization.\n",
    "    parameters = initialize_parameters_deep(layers_dims)\n",
    "\n",
    "    # Loop (gradient descent)\n",
    "    for i in range(0, num_iterations):\n",
    "        AL, caches = L_model_forward(X, parameters)\n",
    "        cost = compute_cost_with_regularization(AL, Y, regularization, parameters)\n",
    "        grads = L_model_backward(AL, Y, caches)\n",
    "        parameters = update_parameters_with_regularization(parameters, grads, learning_rate, regularization)\n",
    "                \n",
    "        # Print the cost every 100 iterations\n",
    "        if print_cost and i % 100 == 0 or i == num_iterations - 1:\n",
    "            print(\"Cost after iteration {}: {}\".format(i, np.squeeze(cost)))\n",
    "        if i % 100 == 0 or i == num_iterations:\n",
    "            costs.append(cost)\n",
    "    \n",
    "    return parameters, costs\n",
    "\n",
    "\n",
    "learning_rate = 0.0075\n",
    "\n",
    "tic = time.process_time()\n",
    "parameters, costs = L_layer_model_with_regularization(train_x, train_y, layers_dims, learning_rate = 0.01, num_iterations = 500, print_cost = True, regularization=0.005)\n",
    "toc = time.process_time()\n",
    "processing_time = 1000 * (toc - tic)\n",
    "print('Processing time: ', str(processing_time) )\n",
    "\n",
    "pred_train = predict(train_x, train_y, parameters)\n",
    "pred_test = predict(test_x, test_y, parameters)\n",
    "\n",
    "\n",
    "\n",
    "plot_costs(costs, learning_rate)\n"
   ]
  },
  {
   "cell_type": "code",
   "execution_count": 22,
   "metadata": {},
   "outputs": [],
   "source": []
  }
 ],
 "metadata": {
  "interpreter": {
   "hash": "832570e78e7f479525d259d2815c5b65773a49263e9055eb025684c9017ad6c2"
  },
  "kernelspec": {
   "display_name": "Python 3.8.10 ('ml-zoomcamp')",
   "language": "python",
   "name": "python3"
  },
  "language_info": {
   "codemirror_mode": {
    "name": "ipython",
    "version": 3
   },
   "file_extension": ".py",
   "mimetype": "text/x-python",
   "name": "python",
   "nbconvert_exporter": "python",
   "pygments_lexer": "ipython3",
   "version": "3.8.10"
  },
  "orig_nbformat": 4
 },
 "nbformat": 4,
 "nbformat_minor": 2
}
